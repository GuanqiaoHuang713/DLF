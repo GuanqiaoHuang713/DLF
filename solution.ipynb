{
 "cells": [
  {
   "cell_type": "markdown",
   "metadata": {},
   "source": [
    "### 1. Data Preprocessing ###"
   ]
  },
  {
   "cell_type": "markdown",
   "metadata": {},
   "source": [
    "This step I read the scaled dataset, and remove invalid data. Then I convert them to np arrays and print the shapes of label and features."
   ]
  },
  {
   "cell_type": "code",
   "execution_count": 1,
   "metadata": {},
   "outputs": [
    {
     "name": "stdout",
     "output_type": "stream",
     "text": [
      "Pregnancies,Glucose,BloodPressure,SkinThickness,Insulin,BMI,DiabetesPedigreeFunction,Age,Outcome\n",
      "\n",
      "['6,148,72,35,0,33.6,0.627,50,1\\n', '1,85,66,29,0,26.6,0.351,31,0\\n', '8,183,64,0,0,23.3,0.672,32,1\\n', '1,89,66,23,94,28.1,0.167,21,0\\n', '0,137,40,35,168,43.1,2.288,33,1\\n', '5,116,74,0,0,25.6,0.201,30,0\\n', '3,78,50,32,88,31,0.248,26,1\\n', '10,115,0,0,0,35.3,0.134,29,0\\n', '2,197,70,45,543,30.5,0.158,53,1\\n']\n"
     ]
    }
   ],
   "source": [
    "# Understand the original data format and features\n",
    "with open('/home/hgq/Projects/DLF/diabetes.csv', 'r') as f:\n",
    "    data = f.readlines()\n",
    "print(data[0])\n",
    "print(data[1:10])"
   ]
  },
  {
   "cell_type": "code",
   "execution_count": 2,
   "metadata": {},
   "outputs": [
    {
     "name": "stdout",
     "output_type": "stream",
     "text": [
      "Data shape: (759, 8)\n",
      "Labels shape: (759,)\n"
     ]
    }
   ],
   "source": [
    "import numpy as np\n",
    "import random\n",
    "import matplotlib.pyplot as plt\n",
    "from sklearn.metrics import precision_score, recall_score, f1_score\n",
    "\n",
    "\n",
    "# Load Data\n",
    "with open('/home/hgq/Projects/DLF/diabetes_scale.txt', 'r') as f:\n",
    "    data = f.readlines()\n",
    "\n",
    "x = []\n",
    "y = []\n",
    "\n",
    "for line in data:\n",
    "    parts = line.strip().split()\n",
    "    label = int(parts[0])\n",
    "    features = []\n",
    "    for feature in parts[1:]:\n",
    "        index, value = feature.split(\":\")\n",
    "        features.append(float(value))\n",
    "\n",
    "    # By reading the csv dataset, there are total 8 features. So here I remove those invalid data.\n",
    "    if len(features) == 8:\n",
    "        x.append(features)\n",
    "        y.append(label)\n",
    "\n",
    "# Convert the data into numpy arrays\n",
    "x = np.array(x)\n",
    "y = np.array(y)\n",
    "\n",
    "print(f\"Data shape: {x.shape}\")\n",
    "print(f\"Labels shape: {y.shape}\")\n"
   ]
  }
 ],
 "metadata": {
  "kernelspec": {
   "display_name": "jitfine",
   "language": "python",
   "name": "python3"
  },
  "language_info": {
   "codemirror_mode": {
    "name": "ipython",
    "version": 3
   },
   "file_extension": ".py",
   "mimetype": "text/x-python",
   "name": "python",
   "nbconvert_exporter": "python",
   "pygments_lexer": "ipython3",
   "version": "3.8.12"
  }
 },
 "nbformat": 4,
 "nbformat_minor": 2
}
